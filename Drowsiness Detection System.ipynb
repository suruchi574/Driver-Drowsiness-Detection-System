{
 "cells": [
  {
   "cell_type": "markdown",
   "metadata": {},
   "source": [
    "# DROWSINESS DETECTION USING OPENCV AND DLIB "
   ]
  },
  {
   "cell_type": "markdown",
   "metadata": {},
   "source": [
    "####   PROJECT BY SURUCHI KUMARI"
   ]
  },
  {
   "cell_type": "code",
   "execution_count": 1,
   "metadata": {},
   "outputs": [
    {
     "name": "stdout",
     "output_type": "stream",
     "text": [
      "Requirement already satisfied: scipy in c:\\users\\suruchi\\appdata\\local\\programs\\python\\python310\\lib\\site-packages (1.8.1)\n",
      "Requirement already satisfied: numpy<1.25.0,>=1.17.3 in c:\\users\\suruchi\\appdata\\local\\programs\\python\\python310\\lib\\site-packages (from scipy) (1.24.4)\n",
      "\n",
      "[notice] A new release of pip available: 22.2 -> 23.2.1\n",
      "[notice] To update, run: python.exe -m pip install --upgrade pip\n",
      "Note: you may need to restart the kernel to use updated packages.\n"
     ]
    }
   ],
   "source": [
    "pip install scipy"
   ]
  },
  {
   "cell_type": "code",
   "execution_count": 2,
   "metadata": {},
   "outputs": [
    {
     "name": "stdout",
     "output_type": "stream",
     "text": [
      "pip 22.2 from c:\\Users\\SURUCHI\\AppData\\Local\\Programs\\Python\\Python310\\lib\\site-packages\\pip (python 3.10)\n",
      "\n",
      "Note: you may need to restart the kernel to use updated packages.\n"
     ]
    }
   ],
   "source": [
    "pip --version"
   ]
  },
  {
   "cell_type": "code",
   "execution_count": 3,
   "metadata": {},
   "outputs": [
    {
     "name": "stdout",
     "output_type": "stream",
     "text": [
      "Requirement already satisfied: pip in c:\\users\\suruchi\\appdata\\local\\programs\\python\\python310\\lib\\site-packages (22.2)\n",
      "Collecting pip\n",
      "  Using cached pip-23.2.1-py3-none-any.whl (2.1 MB)\n",
      "\n",
      "[notice] A new release of pip available: 22.2 -> 23.2.1\n",
      "[notice] To update, run: python.exe -m pip install --upgrade pip\n"
     ]
    },
    {
     "name": "stderr",
     "output_type": "stream",
     "text": [
      "ERROR: To modify pip, please run the following command:\n",
      "C:\\Users\\SURUCHI\\AppData\\Local\\Programs\\Python\\Python310\\python.exe -m pip install --upgrade pip\n"
     ]
    }
   ],
   "source": [
    "!pip install --upgrade pip"
   ]
  },
  {
   "cell_type": "code",
   "execution_count": 4,
   "metadata": {},
   "outputs": [
    {
     "name": "stdout",
     "output_type": "stream",
     "text": [
      "Requirement already satisfied: opencv-python in c:\\users\\suruchi\\appdata\\local\\programs\\python\\python310\\lib\\site-packages (4.6.0.66)\n",
      "Requirement already satisfied: numpy>=1.17.3 in c:\\users\\suruchi\\appdata\\local\\programs\\python\\python310\\lib\\site-packages (from opencv-python) (1.24.4)\n",
      "\n",
      "[notice] A new release of pip available: 22.2 -> 23.2.1\n",
      "[notice] To update, run: python.exe -m pip install --upgrade pip\n",
      "Note: you may need to restart the kernel to use updated packages.\n"
     ]
    }
   ],
   "source": [
    "pip install opencv-python"
   ]
  },
  {
   "cell_type": "code",
   "execution_count": 5,
   "metadata": {},
   "outputs": [
    {
     "name": "stdout",
     "output_type": "stream",
     "text": [
      "Requirement already satisfied: cmake in c:\\users\\suruchi\\appdata\\local\\programs\\python\\python310\\lib\\site-packages (3.22.5)\n",
      "\n",
      "[notice] A new release of pip available: 22.2 -> 23.2.1\n",
      "[notice] To update, run: python.exe -m pip install --upgrade pip\n",
      "Note: you may need to restart the kernel to use updated packages.\n"
     ]
    }
   ],
   "source": [
    "pip install cmake"
   ]
  },
  {
   "cell_type": "code",
   "execution_count": 6,
   "metadata": {},
   "outputs": [
    {
     "name": "stdout",
     "output_type": "stream",
     "text": [
      "Requirement already satisfied: wheel in c:\\users\\suruchi\\appdata\\local\\programs\\python\\python310\\lib\\site-packages (0.37.1)\n",
      "\n",
      "[notice] A new release of pip available: 22.2 -> 23.2.1\n",
      "[notice] To update, run: python.exe -m pip install --upgrade pip\n",
      "Note: you may need to restart the kernel to use updated packages.\n"
     ]
    }
   ],
   "source": [
    "pip install wheel"
   ]
  },
  {
   "cell_type": "code",
   "execution_count": 7,
   "metadata": {},
   "outputs": [
    {
     "name": "stdout",
     "output_type": "stream",
     "text": [
      "Requirement already satisfied: dlib in c:\\users\\suruchi\\appdata\\local\\programs\\python\\python310\\lib\\site-packages (19.22.99)\n",
      "\n",
      "[notice] A new release of pip available: 22.2 -> 23.2.1\n",
      "[notice] To update, run: python.exe -m pip install --upgrade pip\n",
      "Note: you may need to restart the kernel to use updated packages.\n"
     ]
    }
   ],
   "source": [
    "pip install dlib"
   ]
  },
  {
   "cell_type": "code",
   "execution_count": 8,
   "metadata": {},
   "outputs": [],
   "source": [
    "# import the necessary packages\n",
    "from scipy.spatial import distance as dist\n",
    "from threading import Thread\n",
    "import numpy as np\n",
    "import cv2\n",
    "import time\n",
    "import dlib\n",
    "#import playsound\n",
    "detector =  dlib.get_frontal_face_detector()\n",
    "predictor = dlib.shape_predictor(\"shape_predictor_68_face_landmarks.dat\")"
   ]
  },
  {
   "cell_type": "code",
   "execution_count": 9,
   "metadata": {},
   "outputs": [],
   "source": [
    "import numpy as np"
   ]
  },
  {
   "cell_type": "code",
   "execution_count": 10,
   "metadata": {},
   "outputs": [],
   "source": [
    "def fetching_landmarks(image):\n",
    "    gray = cv2.cvtColor(image, cv2.COLOR_BGR2GRAY)\n",
    "    rects = detector(gray, 0)\n",
    "    \n",
    "    \n",
    "    \n",
    "    if len(rects)>1:\n",
    "        return\"error\"\n",
    "    if len(rects)== 0:\n",
    "        return\"error\"\n",
    "    return np.matrix([[p.x, p.y] for p in predictor(gray, rects[0]).parts()])"
   ]
  },
  {
   "cell_type": "code",
   "execution_count": 11,
   "metadata": {},
   "outputs": [],
   "source": [
    "def annotate_landmarks(image, landmarks):\n",
    "    image =image.copy()\n",
    "    for idx,point in enumerate(landmarks):\n",
    "        pos=(point[0,0],point[0,1])\n",
    "        cv2.putText(image,str(idx),pos,fontFace=cv2.FONT_HERSHEY_SCRIPT_SIMPLEX,fontScale=0.4,color=(255,255,0))\n",
    "        cv2.circle(image,pos,3,color=(0,0,255))\n",
    "    return image    \n",
    "\n",
    "def top_lip(landmarks):\n",
    "    top_lip_pts = []\n",
    "    for i in range(50,53):\n",
    "        top_lip_pts.append(landmarks[i])\n",
    "    for i in range(61,64):\n",
    "        top_lip_pts.append(landmarks[i])\n",
    "    top_lip_mean = np.mean(top_lip_pts, axis=0)\n",
    "    return int(top_lip_mean[:,1])\n",
    "\n",
    "def bottom_lip(landmarks):\n",
    "    bottom_lip_pts = []\n",
    "    for i in range(65,68):\n",
    "        bottom_lip_pts.append(landmarks[i])\n",
    "    for i in range(56,59):\n",
    "        bottom_lip_pts.append(landmarks[i])\n",
    "    bottom_lip_mean = np.mean(bottom_lip_pts, axis=0)\n",
    "    return int(bottom_lip_mean[:,1])\n",
    "\n"
   ]
  },
  {
   "cell_type": "code",
   "execution_count": 12,
   "metadata": {},
   "outputs": [],
   "source": [
    "def eye_aspect_ratio(eye_pts):\n",
    "\n",
    "    A = dist.euclidean(eye_pts[1], eye_pts[5])\n",
    "    B = dist.euclidean(eye_pts[2], eye_pts[4])\n",
    "    C = dist.euclidean(eye_pts[0], eye_pts[3])\n",
    "\n",
    "    ear = (A + B) / (2.0 * C)\n",
    "    return ear\n",
    "\n",
    "def left_eye_landmark(landmarks):\n",
    "    left_eye_pts = []\n",
    "    for i in range(36,42):\n",
    "        left_eye_pts.append(landmarks[i])\n",
    "    return(eye_aspect_ratio(left_eye_pts))\n",
    "\n",
    "def right_eye_landmark(landmarks):\n",
    "    right_eye_pts = []\n",
    "    for i in range(42,48):\n",
    "        right_eye_pts.append(landmarks[i])\n",
    "    return(eye_aspect_ratio(right_eye_pts))\n",
    "    "
   ]
  },
  {
   "cell_type": "code",
   "execution_count": 13,
   "metadata": {},
   "outputs": [],
   "source": [
    "def drowsiness_detect(image):\n",
    "    landmarks= fetching_landmarks(image)\n",
    "    \n",
    "    \n",
    "    if landmarks ==\"error\":\n",
    "        return 0,0,image\n",
    "    \n",
    "    image_with_landmarks= annotate_landmarks(image, landmarks)\n",
    "    top_lip_center=top_lip(landmarks)\n",
    "    bottom_lip_center = bottom_lip(landmarks)\n",
    "    lip_distance = abs(top_lip_center - bottom_lip_center)\n",
    "    leftEAR = left_eye_landmark(landmarks)\n",
    "    rightEAR = right_eye_landmark(landmarks)\n",
    "    ear = (leftEAR + rightEAR) / 2.0\n",
    "    return ear, lip_distance, image_with_landmarks"
   ]
  },
  {
   "cell_type": "code",
   "execution_count": 14,
   "metadata": {},
   "outputs": [],
   "source": [
    "## THRESHOLD VALUES\n",
    "EYE_THRESH = 0.3\n",
    "EYE_CONSEC_FRAMES = 20\n",
    "\n",
    "COUNTER_4_YAWN = 0\n",
    "COUNTER_4_EYE = 0\n",
    "#ALARM_ON = False\n",
    "\n",
    "LIP_THRESH = 24\n",
    "LIP_CONSEC_FRAME = 5\n"
   ]
  },
  {
   "cell_type": "code",
   "execution_count": 16,
   "metadata": {},
   "outputs": [
    {
     "name": "stderr",
     "output_type": "stream",
     "text": [
      "C:\\Users\\SURUCHI\\AppData\\Local\\Temp\\ipykernel_16168\\2431880504.py:5: FutureWarning: elementwise comparison failed; returning scalar instead, but in the future will perform elementwise comparison\n",
      "  if landmarks ==\"error\":\n"
     ]
    },
    {
     "ename": "KeyboardInterrupt",
     "evalue": "",
     "output_type": "error",
     "traceback": [
      "\u001b[1;31m---------------------------------------------------------------------------\u001b[0m",
      "\u001b[1;31mKeyboardInterrupt\u001b[0m                         Traceback (most recent call last)",
      "Input \u001b[1;32mIn [16]\u001b[0m, in \u001b[0;36m<cell line: 3>\u001b[1;34m()\u001b[0m\n\u001b[0;32m      3\u001b[0m \u001b[38;5;28;01mwhile\u001b[39;00m \u001b[38;5;28;01mTrue\u001b[39;00m:\n\u001b[0;32m      4\u001b[0m     check,frame \u001b[38;5;241m=\u001b[39m vs\u001b[38;5;241m.\u001b[39mread()\n\u001b[1;32m----> 5\u001b[0m     ear, lip_distance, image_with_landmarks \u001b[38;5;241m=\u001b[39m \u001b[43mdrowsiness_detect\u001b[49m\u001b[43m(\u001b[49m\u001b[43mframe\u001b[49m\u001b[43m)\u001b[49m\n\u001b[0;32m      6\u001b[0m     \u001b[38;5;28;01mif\u001b[39;00m lip_distance \u001b[38;5;241m>\u001b[39m LIP_THRESH:\n\u001b[0;32m      7\u001b[0m         COUNTER_4_YAWN \u001b[38;5;241m+\u001b[39m\u001b[38;5;241m=\u001b[39m \u001b[38;5;241m1\u001b[39m\n",
      "Input \u001b[1;32mIn [13]\u001b[0m, in \u001b[0;36mdrowsiness_detect\u001b[1;34m(image)\u001b[0m\n\u001b[0;32m      1\u001b[0m \u001b[38;5;28;01mdef\u001b[39;00m \u001b[38;5;21mdrowsiness_detect\u001b[39m(image):\n\u001b[1;32m----> 2\u001b[0m     landmarks\u001b[38;5;241m=\u001b[39m \u001b[43mfetching_landmarks\u001b[49m\u001b[43m(\u001b[49m\u001b[43mimage\u001b[49m\u001b[43m)\u001b[49m\n\u001b[0;32m      5\u001b[0m     \u001b[38;5;28;01mif\u001b[39;00m landmarks \u001b[38;5;241m==\u001b[39m\u001b[38;5;124m\"\u001b[39m\u001b[38;5;124merror\u001b[39m\u001b[38;5;124m\"\u001b[39m:\n\u001b[0;32m      6\u001b[0m         \u001b[38;5;28;01mreturn\u001b[39;00m \u001b[38;5;241m0\u001b[39m,\u001b[38;5;241m0\u001b[39m,image\n",
      "Input \u001b[1;32mIn [10]\u001b[0m, in \u001b[0;36mfetching_landmarks\u001b[1;34m(image)\u001b[0m\n\u001b[0;32m      1\u001b[0m \u001b[38;5;28;01mdef\u001b[39;00m \u001b[38;5;21mfetching_landmarks\u001b[39m(image):\n\u001b[0;32m      2\u001b[0m     gray \u001b[38;5;241m=\u001b[39m cv2\u001b[38;5;241m.\u001b[39mcvtColor(image, cv2\u001b[38;5;241m.\u001b[39mCOLOR_BGR2GRAY)\n\u001b[1;32m----> 3\u001b[0m     rects \u001b[38;5;241m=\u001b[39m \u001b[43mdetector\u001b[49m\u001b[43m(\u001b[49m\u001b[43mgray\u001b[49m\u001b[43m,\u001b[49m\u001b[43m \u001b[49m\u001b[38;5;241;43m0\u001b[39;49m\u001b[43m)\u001b[49m\n\u001b[0;32m      7\u001b[0m     \u001b[38;5;28;01mif\u001b[39;00m \u001b[38;5;28mlen\u001b[39m(rects)\u001b[38;5;241m>\u001b[39m\u001b[38;5;241m1\u001b[39m:\n\u001b[0;32m      8\u001b[0m         \u001b[38;5;28;01mreturn\u001b[39;00m\u001b[38;5;124m\"\u001b[39m\u001b[38;5;124merror\u001b[39m\u001b[38;5;124m\"\u001b[39m\n",
      "\u001b[1;31mKeyboardInterrupt\u001b[0m: "
     ]
    }
   ],
   "source": [
    "\n",
    "vs = cv2.VideoCapture(0)\n",
    "\n",
    "while True:\n",
    "    check,frame = vs.read()\n",
    "    ear, lip_distance, image_with_landmarks = drowsiness_detect(frame)\n",
    "    if lip_distance > LIP_THRESH:\n",
    "        COUNTER_4_YAWN += 1\n",
    "        if COUNTER_4_YAWN >= LIP_CONSEC_FRAME:\n",
    "            cv2.putText(frame,\" FEELING SLEEPY   TAKE REST \", (50,450),cv2.FONT_HERSHEY_COMPLEX,1,(0,0,255),2)\n",
    "    else:\n",
    "        COUNTER_4_YAWN = 0\n",
    "        \n",
    "    if ear < EYE_THRESH:\n",
    "        COUNTER_4_EYE += 1\n",
    "        if COUNTER_4_EYE >= EYE_CONSEC_FRAMES:\n",
    "            cv2.putText(frame, \"Drowsiness ALERT!\", (10, 30),\n",
    "                        cv2.FONT_HERSHEY_SIMPLEX, 0.7, (0, 0, 255), 2)\n",
    "    else:\n",
    "        COUNTER_4_EYE = 0\n",
    "            \n",
    "    cv2.putText(frame, \"EAR: {:.2f}\".format(ear), (460, 30),\n",
    "                cv2.FONT_HERSHEY_SIMPLEX, 0.7, (0, 0, 255), 2)\n",
    "        \n",
    " \n",
    "    cv2.imshow(\"Frame\", frame)\n",
    "    cv2.imshow(\"Landmarks\", image_with_landmarks)\n",
    "    key = cv2.waitKey(1) & 0xFF\n",
    " \n",
    "\n",
    "    if key == ord(\"q\"):\n",
    "        break\n",
    "\n",
    "\n",
    "vs.release()\n",
    "cv2.destroyAllWindows()\n",
    "\n"
   ]
  },
  {
   "cell_type": "code",
   "execution_count": null,
   "metadata": {},
   "outputs": [],
   "source": []
  },
  {
   "cell_type": "code",
   "execution_count": null,
   "metadata": {},
   "outputs": [],
   "source": []
  }
 ],
 "metadata": {
  "kernelspec": {
   "display_name": "Python 3 (ipykernel)",
   "language": "python",
   "name": "python3"
  },
  "language_info": {
   "codemirror_mode": {
    "name": "ipython",
    "version": 3
   },
   "file_extension": ".py",
   "mimetype": "text/x-python",
   "name": "python",
   "nbconvert_exporter": "python",
   "pygments_lexer": "ipython3",
   "version": "3.10.5"
  }
 },
 "nbformat": 4,
 "nbformat_minor": 4
}
